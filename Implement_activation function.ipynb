{
 "cells": [
  {
   "cell_type": "code",
   "execution_count": 2,
   "metadata": {},
   "outputs": [],
   "source": [
    "import pandas as pd\n",
    "import numpy as np\n",
    "import matplotlib.pyplot as plt\n",
    "import math"
   ]
  },
  {
   "cell_type": "code",
   "execution_count": 3,
   "metadata": {},
   "outputs": [],
   "source": [
    "# Sigmoid function\n",
    "x = np.linspace(-10,10,100)\n",
    "z = 1 /(1 + np.exp(-x))"
   ]
  },
  {
   "cell_type": "code",
   "execution_count": 4,
   "metadata": {},
   "outputs": [
    {
     "data": {
      "text/plain": [
       "Text(0, 0.5, 'sigmoid(x)')"
      ]
     },
     "execution_count": 4,
     "metadata": {},
     "output_type": "execute_result"
    },
    {
     "data": {
      "image/png": "[encoded data removed]",
      "text/plain": [
       "<Figure size 432x288 with 1 Axes>"
      ]
     },
     "metadata": {
      "needs_background": "light"
     },
     "output_type": "display_data"
    }
   ],
   "source": [
    "plt.plot(x,z)\n",
    "plt.xlabel(\"x\")\n",
    "plt.ylabel(\"sigmoid(x)\")"
   ]
  },
  {
   "cell_type": "markdown",
   "metadata": {},
   "source": [
    "### Relu"
   ]
  },
  {
   "cell_type": "code",
   "execution_count": 5,
   "metadata": {},
   "outputs": [
    {
     "name": "stdout",
     "output_type": "stream",
     "text": [
      "Applying relu on ((1.0)) gives 1\n",
      "Applying relu on (-10.0) gives 0\n",
      "Applying relu on (20.0) gives 20\n",
      "Applying relu on (-50.0) gives 0\n"
     ]
    }
   ],
   "source": [
    "def relu(x):\n",
    "    return  max(0.0,x)\n",
    "x = 1.0\n",
    "print('Applying relu on ((%.1f)) gives %.f' %(x,relu(x)))\n",
    "x=-10.0\n",
    "print('Applying relu on (%.1f) gives %.f' %(x,relu(x)))\n",
    "x=20\n",
    "print('Applying relu on (%.1f) gives %.f' %(x,relu(x)))\n",
    "x=-50\n",
    "print('Applying relu on (%.1f) gives %.f' %(x,relu(x)))"
   ]
  },
  {
   "cell_type": "markdown",
   "metadata": {},
   "source": [
    "### Leaky relu activation function"
   ]
  },
  {
   "cell_type": "code",
   "execution_count": 6,
   "metadata": {},
   "outputs": [],
   "source": [
    "#### f(x)=0.01 x, x < 0\n",
    " #        =0, x>0"
   ]
  },
  {
   "cell_type": "code",
   "execution_count": 7,
   "metadata": {},
   "outputs": [
    {
     "name": "stdout",
     "output_type": "stream",
     "text": [
      "Applying Leaky Relu on (1.0) gives 1.0\n",
      "Applying Leaky Relu on (-10.0) gives -0.1\n",
      "Applying Leaky Relu on (0.0) gives 0.0\n",
      "Applying Leaky Relu on (15.0) gives 15.0\n",
      "Applying Leaky Relu on (-20.0) gives -0.2\n"
     ]
    }
   ],
   "source": [
    "def leaky_relu(x):\n",
    "  if x>0 :\n",
    "    return x\n",
    "  else :\n",
    "    return 0.01*x\n",
    "   \n",
    "x = 1.0\n",
    "print('Applying Leaky Relu on (%.1f) gives %.1f' % (x, leaky_relu(x)))\n",
    " \n",
    "x = -10.0\n",
    "print('Applying Leaky Relu on (%.1f) gives %.1f' % (x, leaky_relu(x)))\n",
    " \n",
    "x = 0.0\n",
    "print('Applying Leaky Relu on (%.1f) gives %.1f' % (x, leaky_relu(x)))\n",
    " \n",
    "x = 15.0\n",
    "print('Applying Leaky Relu on (%.1f) gives %.1f' % (x, leaky_relu(x)))\n",
    " \n",
    "x = -20.0\n",
    "print('Applying Leaky Relu on (%.1f) gives %.1f' % (x, leaky_relu(x)))"
   ]
  },
  {
   "cell_type": "markdown",
   "metadata": {},
   "source": [
    "#### Tanh function = (e^x -e^-x)/(e^x +e^-x)"
   ]
  },
  {
   "cell_type": "code",
   "execution_count": 13,
   "metadata": {},
   "outputs": [
    {
     "data": {
      "image/png": "[encoded data removed]",
      "text/plain": [
       "<Figure size 432x288 with 1 Axes>"
      ]
     },
     "metadata": {
      "needs_background": "light"
     },
     "output_type": "display_data"
    }
   ],
   "source": [
    "import math\n",
    "from math import exp\n",
    "from matplotlib import pyplot\n",
    "# math.exp( x )\n",
    "def tanh(x):\n",
    "    return (exp(x) - exp(-x)) / (exp(x) + exp(-x))\n",
    " \n",
    "# define input data\n",
    "inputs = [x for x in range(-10, 10)]\n",
    "# calculate outputs\n",
    "outputs = [tanh(x) for x in inputs]\n",
    "# plot inputs vs outputs\n",
    "pyplot.plot(inputs, outputs)\n",
    "pyplot.show()"
   ]
  },
  {
   "cell_type": "markdown",
   "metadata": {},
   "source": [
    "#### Softmax function e^x/sum(e^x)"
   ]
  },
  {
   "cell_type": "code",
   "execution_count": 20,
   "metadata": {},
   "outputs": [
    {
     "name": "stdout",
     "output_type": "stream",
     "text": [
      "[0.09003057 0.66524096 0.24472847]\n",
      "Item having Highest probablity is at index =  1\n",
      "1.0\n"
     ]
    }
   ],
   "source": [
    "from numpy import exp\n",
    " \n",
    "# softmax activation function\n",
    "def softmax(x):\n",
    "\treturn exp(x) / exp(x).sum()\n",
    " \n",
    "# define input data\n",
    "inputs = [1, 3.0, 2.0]\n",
    "# calculate outputs\n",
    "outputs = softmax(inputs)\n",
    "# report the probabilities\n",
    "print(outputs)\n",
    "print(\"Item having Highest probablity is at index = \",np.argmax(outputs))\n",
    "# report the sum of the probabilities\n",
    "print(outputs.sum())"
   ]
  }
 ],
 "metadata": {
  "kernelspec": {
   "display_name": "Python 3",
   "language": "python",
   "name": "python3"
  },
  "language_info": {
   "codemirror_mode": {
    "name": "ipython",
    "version": 3
   },
   "file_extension": ".py",
   "mimetype": "text/x-python",
   "name": "python",
   "nbconvert_exporter": "python",
   "pygments_lexer": "ipython3",
   "version": "3.8.3"
  }
 },
 "nbformat": 4,
 "nbformat_minor": 4
}
